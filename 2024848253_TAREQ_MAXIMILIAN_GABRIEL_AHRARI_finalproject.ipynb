{
 "cells": [
  {
   "cell_type": "code",
   "execution_count": 2,
   "id": "e5c9df8a-2236-4100-8499-f960c6c5a93b",
   "metadata": {},
   "outputs": [
    {
     "name": "stdout",
     "output_type": "stream",
     "text": [
      "{'text': 'I rented I AM CURIOUS-YELLOW from my video store because of all the controversy that surrounded it when it was first released in 1967. I also heard that at first it was seized by U.S. customs if it ever tried to enter this country, therefore being a fan of films considered \"controversial\" I really had to see this for myself.<br /><br />The plot is centered around a young Swedish drama student named Lena who wants to learn everything she can about life. In particular she wants to focus her attentions to making some sort of documentary on what the average Swede thought about certain political issues such as the Vietnam War and race issues in the United States. In between asking politicians and ordinary denizens of Stockholm about their opinions on politics, she has sex with her drama teacher, classmates, and married men.<br /><br />What kills me about I AM CURIOUS-YELLOW is that 40 years ago, this was considered pornographic. Really, the sex and nudity scenes are few and far between, even then it\\'s not shot like some cheaply made porno. While my countrymen mind find it shocking, in reality sex and nudity are a major staple in Swedish cinema. Even Ingmar Bergman, arguably their answer to good old boy John Ford, had sex scenes in his films.<br /><br />I do commend the filmmakers for the fact that any sex shown in the film is shown for artistic purposes rather than just to shock people and make money to be shown in pornographic theaters in America. I AM CURIOUS-YELLOW is a good film for anyone wanting to study the meat and potatoes (no pun intended) of Swedish cinema. But really, this film doesn\\'t have much of a plot.', 'label': 0}\n"
     ]
    }
   ],
   "source": [
    "from datasets import load_dataset\n",
    "dataset = load_dataset(\"imdb\")\n",
    "print(dataset[\"train\"][0])  # View a sample\n"
   ]
  },
  {
   "cell_type": "code",
   "execution_count": 3,
   "id": "f82b3b3a-f97a-42a5-99c1-ee57aa9f3efc",
   "metadata": {},
   "outputs": [],
   "source": [
    "def add_context(data):\n",
    "    with_context = []\n",
    "    for i in range(len(data) - 1):\n",
    "        current = data[i]\n",
    "        next_sentence = data[i + 1][\"text\"]\n",
    "        with_context.append({\n",
    "            \"text\": f\"{current['text']} Context: {next_sentence}\",\n",
    "            \"label\": current[\"label\"]\n",
    "        })\n",
    "    return with_context\n"
   ]
  },
  {
   "cell_type": "code",
   "execution_count": 4,
   "id": "65455b6d-128c-4efb-8c63-45184bf5a98f",
   "metadata": {},
   "outputs": [],
   "source": [
    "contextual_train = add_context(dataset[\"train\"])\n",
    "contextual_test = add_context(dataset[\"test\"])\n"
   ]
  },
  {
   "cell_type": "code",
   "execution_count": 5,
   "id": "804a4718-f8fe-4859-850c-28cdce8d3cdd",
   "metadata": {},
   "outputs": [],
   "source": [
    "from datasets import Dataset\n",
    "\n",
    "# Convert list of dictionaries to dictionary of lists\n",
    "contextual_train_dict = {\n",
    "    \"text\": [entry[\"text\"] for entry in contextual_train],\n",
    "    \"label\": [entry[\"label\"] for entry in contextual_train],\n",
    "}\n",
    "contextual_test_dict = {\n",
    "    \"text\": [entry[\"text\"] for entry in contextual_test],\n",
    "    \"label\": [entry[\"label\"] for entry in contextual_test],\n",
    "}\n",
    "\n",
    "# Create datasets\n",
    "train_dataset = Dataset.from_dict(contextual_train_dict)\n",
    "test_dataset = Dataset.from_dict(contextual_test_dict)\n"
   ]
  },
  {
   "cell_type": "code",
   "execution_count": 6,
   "id": "f09dd26c-4840-4773-82cd-d8fba1dda9b8",
   "metadata": {},
   "outputs": [
    {
     "name": "stderr",
     "output_type": "stream",
     "text": [
      "Some weights of BertForSequenceClassification were not initialized from the model checkpoint at bert-base-uncased and are newly initialized: ['classifier.bias', 'classifier.weight']\n",
      "You should probably TRAIN this model on a down-stream task to be able to use it for predictions and inference.\n"
     ]
    }
   ],
   "source": [
    "from transformers import AutoTokenizer, AutoModelForSequenceClassification\n",
    "\n",
    "model_name = \"bert-base-uncased\"\n",
    "tokenizer = AutoTokenizer.from_pretrained(model_name)\n",
    "model = AutoModelForSequenceClassification.from_pretrained(model_name, num_labels=3).to(\"cuda\")\n"
   ]
  },
  {
   "cell_type": "code",
   "execution_count": 7,
   "id": "c5058d7f-37ce-45dd-9c01-5137a5292575",
   "metadata": {},
   "outputs": [],
   "source": [
    "def tokenize_function(example):\n",
    "    return tokenizer(\n",
    "        example[\"text\"], \n",
    "        truncation=True, \n",
    "        padding=\"max_length\", \n",
    "        max_length=128\n",
    "    )\n"
   ]
  },
  {
   "cell_type": "code",
   "execution_count": 8,
   "id": "ca49947d-a393-4a51-afba-e97c9b09620a",
   "metadata": {},
   "outputs": [
    {
     "data": {
      "application/vnd.jupyter.widget-view+json": {
       "model_id": "2a6b0009c96e4100bc26118156c9fcdc",
       "version_major": 2,
       "version_minor": 0
      },
      "text/plain": [
       "Map:   0%|          | 0/24999 [00:00<?, ? examples/s]"
      ]
     },
     "metadata": {},
     "output_type": "display_data"
    },
    {
     "data": {
      "application/vnd.jupyter.widget-view+json": {
       "model_id": "1017d204adf44f00aeba9ef9a61c4735",
       "version_major": 2,
       "version_minor": 0
      },
      "text/plain": [
       "Map:   0%|          | 0/24999 [00:00<?, ? examples/s]"
      ]
     },
     "metadata": {},
     "output_type": "display_data"
    }
   ],
   "source": [
    "train_dataset = train_dataset.map(tokenize_function, batched=True)\n",
    "test_dataset = test_dataset.map(tokenize_function, batched=True)\n",
    "\n",
    "# Remove unnecessary columns\n",
    "train_dataset = train_dataset.remove_columns([\"text\"])\n",
    "test_dataset = test_dataset.remove_columns([\"text\"])\n"
   ]
  },
  {
   "cell_type": "code",
   "execution_count": 9,
   "id": "fbf75ced-8cdd-4580-99b3-146b43a0b34f",
   "metadata": {},
   "outputs": [],
   "source": [
    "import torch\n",
    "import numpy as np\n",
    "from sklearn.metrics import accuracy_score, f1_score\n",
    "\n",
    "def evaluate_model(model, dataset):\n",
    "    model.eval()  # Set model to evaluation mode\n",
    "    predictions, labels = [], []\n",
    "    for sample in dataset:\n",
    "        inputs = {\n",
    "            key: torch.tensor(value).unsqueeze(0).to(\"cuda\") \n",
    "            for key, value in sample.items() if key != \"label\"\n",
    "        }\n",
    "        with torch.no_grad():\n",
    "            outputs = model(**inputs)\n",
    "            logits = outputs.logits\n",
    "            predictions.append(torch.argmax(logits, dim=-1).cpu().numpy()[0])\n",
    "            labels.append(sample[\"label\"])\n",
    "    predictions = np.array(predictions)\n",
    "    labels = np.array(labels)\n",
    "    return {\n",
    "        \"accuracy\": accuracy_score(labels, predictions),\n",
    "        \"f1\": f1_score(labels, predictions, average=\"weighted\"),\n",
    "    }\n",
    "\n"
   ]
  },
  {
   "cell_type": "code",
   "execution_count": 10,
   "id": "87cacc79-8e5f-4398-ad5a-f95b398c6980",
   "metadata": {},
   "outputs": [
    {
     "name": "stdout",
     "output_type": "stream",
     "text": [
      "Baseline Accuracy: 0.010440417616704669\n",
      "Baseline F1 Score: 0.02009223987603546\n"
     ]
    }
   ],
   "source": [
    "baseline_metrics = evaluate_model(model, test_dataset)\n",
    "print(f\"Baseline Accuracy: {baseline_metrics['accuracy']}\")\n",
    "print(f\"Baseline F1 Score: {baseline_metrics['f1']}\")\n",
    "\n"
   ]
  },
  {
   "cell_type": "code",
   "execution_count": 11,
   "id": "745cb2b4-98e8-46c6-aab9-328924d38f2a",
   "metadata": {},
   "outputs": [
    {
     "name": "stderr",
     "output_type": "stream",
     "text": [
      "/usr/local/lib/python3.10/dist-packages/transformers/training_args.py:1575: FutureWarning: `evaluation_strategy` is deprecated and will be removed in version 4.46 of 🤗 Transformers. Use `eval_strategy` instead\n",
      "  warnings.warn(\n"
     ]
    }
   ],
   "source": [
    "from transformers import TrainingArguments\n",
    "\n",
    "training_args = TrainingArguments(\n",
    "    output_dir=\"./results\",\n",
    "    evaluation_strategy=\"epoch\",\n",
    "    save_strategy=\"epoch\",\n",
    "    learning_rate=2e-5,\n",
    "    per_device_train_batch_size=8,\n",
    "    num_train_epochs=3,\n",
    "    weight_decay=0.01,\n",
    "    logging_dir=\"./logs\",\n",
    "    logging_steps=100,\n",
    "    save_total_limit=2,\n",
    ")\n"
   ]
  },
  {
   "cell_type": "code",
   "execution_count": 12,
   "id": "1ca963e4-5d5a-4963-a601-01aa6c75aba5",
   "metadata": {},
   "outputs": [],
   "source": [
    "def compute_metrics(eval_pred):\n",
    "    logits, labels = eval_pred\n",
    "    predictions = np.argmax(logits, axis=-1)\n",
    "    accuracy = accuracy_score(labels, predictions)\n",
    "    f1 = f1_score(labels, predictions, average=\"weighted\")\n",
    "    return {\"accuracy\": accuracy, \"f1\": f1}\n"
   ]
  },
  {
   "cell_type": "code",
   "execution_count": 13,
   "id": "38f79707-ae66-43fe-a23f-946c7323776c",
   "metadata": {},
   "outputs": [
    {
     "name": "stderr",
     "output_type": "stream",
     "text": [
      "Detected kernel version 5.4.0, which is below the recommended minimum of 5.5.0; this can cause the process to hang. It is recommended to upgrade the kernel to the minimum version or higher.\n"
     ]
    },
    {
     "data": {
      "text/html": [
       "\n",
       "    <div>\n",
       "      \n",
       "      <progress value='9375' max='9375' style='width:300px; height:20px; vertical-align: middle;'></progress>\n",
       "      [9375/9375 11:06, Epoch 3/3]\n",
       "    </div>\n",
       "    <table border=\"1\" class=\"dataframe\">\n",
       "  <thead>\n",
       " <tr style=\"text-align: left;\">\n",
       "      <th>Epoch</th>\n",
       "      <th>Training Loss</th>\n",
       "      <th>Validation Loss</th>\n",
       "      <th>Accuracy</th>\n",
       "      <th>F1</th>\n",
       "    </tr>\n",
       "  </thead>\n",
       "  <tbody>\n",
       "    <tr>\n",
       "      <td>1</td>\n",
       "      <td>0.318300</td>\n",
       "      <td>0.273818</td>\n",
       "      <td>0.883995</td>\n",
       "      <td>0.883848</td>\n",
       "    </tr>\n",
       "    <tr>\n",
       "      <td>2</td>\n",
       "      <td>0.253000</td>\n",
       "      <td>0.415029</td>\n",
       "      <td>0.889596</td>\n",
       "      <td>0.889590</td>\n",
       "    </tr>\n",
       "    <tr>\n",
       "      <td>3</td>\n",
       "      <td>0.166700</td>\n",
       "      <td>0.562771</td>\n",
       "      <td>0.890556</td>\n",
       "      <td>0.890556</td>\n",
       "    </tr>\n",
       "  </tbody>\n",
       "</table><p>"
      ],
      "text/plain": [
       "<IPython.core.display.HTML object>"
      ]
     },
     "metadata": {},
     "output_type": "display_data"
    },
    {
     "data": {
      "text/plain": [
       "TrainOutput(global_step=9375, training_loss=0.23662614766438803, metrics={'train_runtime': 666.3297, 'train_samples_per_second': 112.552, 'train_steps_per_second': 14.07, 'total_flos': 4933179247336704.0, 'train_loss': 0.23662614766438803, 'epoch': 3.0})"
      ]
     },
     "execution_count": 13,
     "metadata": {},
     "output_type": "execute_result"
    }
   ],
   "source": [
    "from transformers import Trainer\n",
    "\n",
    "trainer = Trainer(\n",
    "    model=model,\n",
    "    args=training_args,\n",
    "    train_dataset=train_dataset,\n",
    "    eval_dataset=test_dataset,\n",
    "    compute_metrics=compute_metrics,\n",
    ")\n",
    "\n",
    "trainer.train()\n"
   ]
  },
  {
   "cell_type": "code",
   "execution_count": 14,
   "id": "07fe3abe-8307-4ae9-91a9-d411b52df29c",
   "metadata": {},
   "outputs": [
    {
     "data": {
      "text/plain": [
       "('./fine_tuned_model/tokenizer_config.json',\n",
       " './fine_tuned_model/special_tokens_map.json',\n",
       " './fine_tuned_model/vocab.txt',\n",
       " './fine_tuned_model/added_tokens.json',\n",
       " './fine_tuned_model/tokenizer.json')"
      ]
     },
     "execution_count": 14,
     "metadata": {},
     "output_type": "execute_result"
    }
   ],
   "source": [
    "trainer.save_model(\"./fine_tuned_model\")\n",
    "tokenizer.save_pretrained(\"./fine_tuned_model\")\n"
   ]
  },
  {
   "cell_type": "code",
   "execution_count": 16,
   "id": "e0ba1a80-460d-4ca3-b793-d6b5948704fd",
   "metadata": {},
   "outputs": [],
   "source": [
    "from transformers import AutoModelForSequenceClassification\n",
    "\n",
    "fine_tuned_model = AutoModelForSequenceClassification.from_pretrained(\"./fine_tuned_model\").to(\"cuda\")\n"
   ]
  },
  {
   "cell_type": "code",
   "execution_count": 17,
   "id": "25dd79b2-e0bd-4e37-9ec2-9fc4336bf9ff",
   "metadata": {},
   "outputs": [
    {
     "name": "stdout",
     "output_type": "stream",
     "text": [
      "Neutral\n"
     ]
    }
   ],
   "source": [
    "def classify_with_context(text, context):\n",
    "    input_text = f\"{text} Context: {context}\"\n",
    "    inputs = tokenizer(input_text, return_tensors=\"pt\", truncation=True, padding=True).to(\"cuda\")\n",
    "    outputs = fine_tuned_model(**inputs)\n",
    "    logits = outputs.logits\n",
    "    sentiment = torch.argmax(logits, dim=-1).item()\n",
    "    labels = [\"Negative\", \"Neutral\", \"Positive\"]\n",
    "    return labels[sentiment]\n",
    "\n",
    "# Example Usage\n",
    "text = \"The movie was amazing!\"\n",
    "context = \"However, the ending was predictable.\"\n",
    "print(classify_with_context(text, context))\n"
   ]
  },
  {
   "cell_type": "code",
   "execution_count": 18,
   "id": "3c393f79-0653-4c45-95de-52eb4ecf0a07",
   "metadata": {},
   "outputs": [
    {
     "name": "stderr",
     "output_type": "stream",
     "text": [
      "Some weights of BertForSequenceClassification were not initialized from the model checkpoint at bert-base-uncased and are newly initialized: ['classifier.bias', 'classifier.weight']\n",
      "You should probably TRAIN this model on a down-stream task to be able to use it for predictions and inference.\n"
     ]
    }
   ],
   "source": [
    "from transformers import AutoModelForSequenceClassification\n",
    "\n",
    "model_pretrained = AutoModelForSequenceClassification.from_pretrained(\"bert-base-uncased\", num_labels=3).to(\"cuda\")\n"
   ]
  },
  {
   "cell_type": "code",
   "execution_count": 19,
   "id": "a0778516-42d0-4e34-956b-291ea9c385f1",
   "metadata": {},
   "outputs": [],
   "source": [
    "model_finetuned = AutoModelForSequenceClassification.from_pretrained(\"./fine_tuned_model\").to(\"cuda\")\n"
   ]
  },
  {
   "cell_type": "code",
   "execution_count": 20,
   "id": "49a48253-e99b-4d7a-86f7-708379206f73",
   "metadata": {},
   "outputs": [],
   "source": [
    "import torch\n",
    "\n",
    "def classify_with_model(model, text, context):\n",
    "    input_text = f\"{text} Context: {context}\"\n",
    "    inputs = tokenizer(input_text, return_tensors=\"pt\", truncation=True, padding=True).to(\"cuda\")\n",
    "    outputs = model(**inputs)\n",
    "    logits = outputs.logits\n",
    "    sentiment = torch.argmax(logits, dim=-1).item()\n",
    "    labels = [\"Negative\", \"Neutral\", \"Positive\"]\n",
    "    return labels[sentiment]\n"
   ]
  },
  {
   "cell_type": "code",
   "execution_count": 21,
   "id": "ea4299da-7a6f-4657-b1b3-30d6be3588b8",
   "metadata": {},
   "outputs": [
    {
     "name": "stdout",
     "output_type": "stream",
     "text": [
      "Pre-trained Model Prediction: Neutral\n",
      "Fine-Tuned Model Prediction: Neutral\n"
     ]
    }
   ],
   "source": [
    "# Example input\n",
    "text = \"The movie was great!\"\n",
    "context = \"However, the ending was predictable.\"\n",
    "\n",
    "# Pre-trained model prediction\n",
    "pretrained_prediction = classify_with_model(model_pretrained, text, context)\n",
    "print(f\"Pre-trained Model Prediction: {pretrained_prediction}\")\n",
    "\n",
    "# Fine-tuned model prediction\n",
    "finetuned_prediction = classify_with_model(model_finetuned, text, context)\n",
    "print(f\"Fine-Tuned Model Prediction: {finetuned_prediction}\")\n"
   ]
  },
  {
   "cell_type": "code",
   "execution_count": 22,
   "id": "7cad3e6a-8dc4-4fde-a34f-128dbe26a75c",
   "metadata": {},
   "outputs": [
    {
     "name": "stdout",
     "output_type": "stream",
     "text": [
      "Text: The service was excellent.\n",
      "Context: The food was terrible.\n",
      "Pre-trained Model Prediction: Neutral\n",
      "Fine-Tuned Model Prediction: Neutral\n",
      "--------------------------------------------------\n",
      "Text: I enjoyed the experience.\n",
      "Context: It was my first visit.\n",
      "Pre-trained Model Prediction: Neutral\n",
      "Fine-Tuned Model Prediction: Neutral\n",
      "--------------------------------------------------\n",
      "Text: The product quality is amazing.\n",
      "Context: But the delivery was late.\n",
      "Pre-trained Model Prediction: Neutral\n",
      "Fine-Tuned Model Prediction: Negative\n",
      "--------------------------------------------------\n"
     ]
    }
   ],
   "source": [
    "# Create a list of test examples\n",
    "test_examples = [\n",
    "    {\"text\": \"The service was excellent.\", \"context\": \"The food was terrible.\"},\n",
    "    {\"text\": \"I enjoyed the experience.\", \"context\": \"It was my first visit.\"},\n",
    "    {\"text\": \"The product quality is amazing.\", \"context\": \"But the delivery was late.\"},\n",
    "]\n",
    "\n",
    "# Compare predictions for each example\n",
    "for example in test_examples:\n",
    "    text, context = example[\"text\"], example[\"context\"]\n",
    "    pretrained_prediction = classify_with_model(model_pretrained, text, context)\n",
    "    finetuned_prediction = classify_with_model(model_finetuned, text, context)\n",
    "    print(f\"Text: {text}\")\n",
    "    print(f\"Context: {context}\")\n",
    "    print(f\"Pre-trained Model Prediction: {pretrained_prediction}\")\n",
    "    print(f\"Fine-Tuned Model Prediction: {finetuned_prediction}\")\n",
    "    print(\"-\" * 50)\n"
   ]
  },
  {
   "cell_type": "code",
   "execution_count": 23,
   "id": "6ebedf99-6e8e-4e29-94c9-aadf777739dc",
   "metadata": {},
   "outputs": [],
   "source": [
    "import numpy as np\n",
    "from sklearn.metrics import accuracy_score, f1_score\n",
    "\n",
    "def evaluate_model_on_test(model, dataset):\n",
    "    predictions, labels = [], []\n",
    "    for sample in dataset:\n",
    "        inputs = {\n",
    "            key: torch.tensor(value).unsqueeze(0).to(\"cuda\") \n",
    "            for key, value in sample.items() if key != \"label\"\n",
    "        }\n",
    "        with torch.no_grad():\n",
    "            outputs = model(**inputs)\n",
    "            logits = outputs.logits\n",
    "            predictions.append(torch.argmax(logits, dim=-1).cpu().numpy()[0])\n",
    "            labels.append(sample[\"label\"])\n",
    "    predictions = np.array(predictions)\n",
    "    labels = np.array(labels)\n",
    "    return {\n",
    "        \"accuracy\": accuracy_score(labels, predictions),\n",
    "        \"f1\": f1_score(labels, predictions, average=\"weighted\"),\n",
    "    }\n"
   ]
  },
  {
   "cell_type": "code",
   "execution_count": 24,
   "id": "f12bc866-7db7-4b58-a895-46a46cf0b1bd",
   "metadata": {},
   "outputs": [
    {
     "name": "stdout",
     "output_type": "stream",
     "text": [
      "Pre-trained Model Metrics: {'accuracy': 0.5539821592863714, 'f1': 0.5529134069708699}\n",
      "Fine-Tuned Model Metrics: {'accuracy': 0.890555622224889, 'f1': 0.890555622224889}\n"
     ]
    }
   ],
   "source": [
    "metrics_pretrained = evaluate_model_on_test(model_pretrained, test_dataset)\n",
    "metrics_finetuned = evaluate_model_on_test(model_finetuned, test_dataset)\n",
    "\n",
    "print(f\"Pre-trained Model Metrics: {metrics_pretrained}\")\n",
    "print(f\"Fine-Tuned Model Metrics: {metrics_finetuned}\")\n"
   ]
  },
  {
   "cell_type": "code",
   "execution_count": 25,
   "id": "e6ad5d60-d517-481f-a23a-2aebb75869a4",
   "metadata": {},
   "outputs": [
    {
     "data": {
      "application/vnd.jupyter.widget-view+json": {
       "model_id": "a779cbebed074c148008634469fb1838",
       "version_major": 2,
       "version_minor": 0
      },
      "text/plain": [
       "README.md:   0%|          | 0.00/8.93k [00:00<?, ?B/s]"
      ]
     },
     "metadata": {},
     "output_type": "display_data"
    },
    {
     "data": {
      "application/vnd.jupyter.widget-view+json": {
       "model_id": "e4faa9ffd58a48dd8bad2a218673af85",
       "version_major": 2,
       "version_minor": 0
      },
      "text/plain": [
       "train-00000-of-00001.parquet:   0%|          | 0.00/256M [00:00<?, ?B/s]"
      ]
     },
     "metadata": {},
     "output_type": "display_data"
    },
    {
     "data": {
      "application/vnd.jupyter.widget-view+json": {
       "model_id": "96a0def151ff40829ab99561bbc0d322",
       "version_major": 2,
       "version_minor": 0
      },
      "text/plain": [
       "test-00000-of-00001.parquet:   0%|          | 0.00/17.7M [00:00<?, ?B/s]"
      ]
     },
     "metadata": {},
     "output_type": "display_data"
    },
    {
     "data": {
      "application/vnd.jupyter.widget-view+json": {
       "model_id": "98e8f5e861c140248050524064f7f4a8",
       "version_major": 2,
       "version_minor": 0
      },
      "text/plain": [
       "Generating train split:   0%|          | 0/560000 [00:00<?, ? examples/s]"
      ]
     },
     "metadata": {},
     "output_type": "display_data"
    },
    {
     "data": {
      "application/vnd.jupyter.widget-view+json": {
       "model_id": "32a57582b5c3429a8999197feef82eee",
       "version_major": 2,
       "version_minor": 0
      },
      "text/plain": [
       "Generating test split:   0%|          | 0/38000 [00:00<?, ? examples/s]"
      ]
     },
     "metadata": {},
     "output_type": "display_data"
    },
    {
     "name": "stdout",
     "output_type": "stream",
     "text": [
      "{'text': \"Unfortunately, the frustration of being Dr. Goldberg's patient is a repeat of the experience I've had with so many other doctors in NYC -- good doctor, terrible staff.  It seems that his staff simply never answers the phone.  It usually takes 2 hours of repeated calling to get an answer.  Who has time for that or wants to deal with it?  I have run into this problem with many other doctors and I just don't get it.  You have office workers, you have patients with medical needs, why isn't anyone answering the phone?  It's incomprehensible and not work the aggravation.  It's with regret that I feel that I have to give Dr. Goldberg 2 stars.\", 'label': 0}\n"
     ]
    },
    {
     "data": {
      "application/vnd.jupyter.widget-view+json": {
       "model_id": "c01bb1cf40ef4ff6b4d47bc82c1d13dc",
       "version_major": 2,
       "version_minor": 0
      },
      "text/plain": [
       "README.md:   0%|          | 0.00/6.81k [00:00<?, ?B/s]"
      ]
     },
     "metadata": {},
     "output_type": "display_data"
    },
    {
     "data": {
      "application/vnd.jupyter.widget-view+json": {
       "model_id": "6b30b317c14146578e925fc14482268d",
       "version_major": 2,
       "version_minor": 0
      },
      "text/plain": [
       "train-00000-of-00004.parquet:   0%|          | 0.00/260M [00:00<?, ?B/s]"
      ]
     },
     "metadata": {},
     "output_type": "display_data"
    },
    {
     "data": {
      "application/vnd.jupyter.widget-view+json": {
       "model_id": "600d9975737647729a83137540cc0bc8",
       "version_major": 2,
       "version_minor": 0
      },
      "text/plain": [
       "train-00001-of-00004.parquet:   0%|          | 0.00/258M [00:00<?, ?B/s]"
      ]
     },
     "metadata": {},
     "output_type": "display_data"
    },
    {
     "data": {
      "application/vnd.jupyter.widget-view+json": {
       "model_id": "1e2497552866413997b36195881fd126",
       "version_major": 2,
       "version_minor": 0
      },
      "text/plain": [
       "train-00002-of-00004.parquet:   0%|          | 0.00/255M [00:00<?, ?B/s]"
      ]
     },
     "metadata": {},
     "output_type": "display_data"
    },
    {
     "data": {
      "application/vnd.jupyter.widget-view+json": {
       "model_id": "5fe01e630d8549ababea19c9c325b573",
       "version_major": 2,
       "version_minor": 0
      },
      "text/plain": [
       "train-00003-of-00004.parquet:   0%|          | 0.00/254M [00:00<?, ?B/s]"
      ]
     },
     "metadata": {},
     "output_type": "display_data"
    },
    {
     "data": {
      "application/vnd.jupyter.widget-view+json": {
       "model_id": "cb9fe89bf7ee4bbe9d1d9ee9207f5e4a",
       "version_major": 2,
       "version_minor": 0
      },
      "text/plain": [
       "test-00000-of-00001.parquet:   0%|          | 0.00/117M [00:00<?, ?B/s]"
      ]
     },
     "metadata": {},
     "output_type": "display_data"
    },
    {
     "data": {
      "application/vnd.jupyter.widget-view+json": {
       "model_id": "01c1db32726641df8ef4caae7dc63fb8",
       "version_major": 2,
       "version_minor": 0
      },
      "text/plain": [
       "Generating train split:   0%|          | 0/3600000 [00:00<?, ? examples/s]"
      ]
     },
     "metadata": {},
     "output_type": "display_data"
    },
    {
     "data": {
      "application/vnd.jupyter.widget-view+json": {
       "model_id": "847a038e6a2240b89fc072c8524d0ef9",
       "version_major": 2,
       "version_minor": 0
      },
      "text/plain": [
       "Generating test split:   0%|          | 0/400000 [00:00<?, ? examples/s]"
      ]
     },
     "metadata": {},
     "output_type": "display_data"
    },
    {
     "name": "stdout",
     "output_type": "stream",
     "text": [
      "{'label': 1, 'title': 'Stuning even for the non-gamer', 'content': 'This sound track was beautiful! It paints the senery in your mind so well I would recomend it even to people who hate vid. game music! I have played the game Chrono Cross but out of all of the games I have ever played it has the best music! It backs away from crude keyboarding and takes a fresher step with grate guitars and soulful orchestras. It would impress anyone who cares to listen! ^_^'}\n"
     ]
    }
   ],
   "source": [
    "from datasets import load_dataset\n",
    "\n",
    "# Load Yelp Polarity dataset\n",
    "dataset_yelp = load_dataset(\"yelp_polarity\")\n",
    "print(dataset_yelp[\"train\"][0])  # Example from Yelp dataset\n",
    "\n",
    "# Load Amazon Reviews dataset\n",
    "dataset_amazon = load_dataset(\"amazon_polarity\")\n",
    "print(dataset_amazon[\"train\"][0])  # Example from Amazon dataset\n"
   ]
  },
  {
   "cell_type": "code",
   "execution_count": 26,
   "id": "51c6b4a1-fd7a-4c4f-b7b9-909fb7b81f0d",
   "metadata": {},
   "outputs": [],
   "source": [
    "def add_context(data):\n",
    "    with_context = []\n",
    "    for i in range(len(data) - 1):\n",
    "        current = data[i]\n",
    "        next_sentence = data[i + 1][\"text\"]\n",
    "        with_context.append({\n",
    "            \"text\": f\"{current['text']} Context: {next_sentence}\",\n",
    "            \"label\": current[\"label\"]\n",
    "        })\n",
    "    return with_context\n"
   ]
  },
  {
   "cell_type": "code",
   "execution_count": 35,
   "id": "6eae08c6-ca6d-47f2-8b40-3aad3c874398",
   "metadata": {},
   "outputs": [],
   "source": [
    "# Process Yelp Polarity\n",
    "contextual_yelp_train = add_context(dataset_yelp[\"train\"])\n",
    "contextual_yelp_test = add_context(dataset_yelp[\"test\"])\n",
    "\n"
   ]
  },
  {
   "cell_type": "code",
   "execution_count": 36,
   "id": "590b0937-b8e8-43e4-a67b-77f0d74757a1",
   "metadata": {},
   "outputs": [],
   "source": [
    "def tokenize_function(example):\n",
    "    return tokenizer(\n",
    "        example[\"text\"], \n",
    "        truncation=True, \n",
    "        padding=\"max_length\", \n",
    "        max_length=128\n",
    "    )\n"
   ]
  },
  {
   "cell_type": "code",
   "execution_count": 38,
   "id": "968810b5-3b85-4723-8e96-7ba2ee9e098a",
   "metadata": {},
   "outputs": [],
   "source": [
    "from datasets import Dataset\n",
    "\n",
    "# Yelp Train/Test\n",
    "contextual_yelp_train_dict = {\n",
    "    \"text\": [entry[\"text\"] for entry in contextual_yelp_train],\n",
    "    \"label\": [entry[\"label\"] for entry in contextual_yelp_train],\n",
    "}\n",
    "contextual_yelp_test_dict = {\n",
    "    \"text\": [entry[\"text\"] for entry in contextual_yelp_test],\n",
    "    \"label\": [entry[\"label\"] for entry in contextual_yelp_test],\n",
    "}\n",
    "yelp_train_dataset = Dataset.from_dict(contextual_yelp_train_dict)\n",
    "yelp_test_dataset = Dataset.from_dict(contextual_yelp_test_dict)\n"
   ]
  },
  {
   "cell_type": "code",
   "execution_count": 39,
   "id": "b217034b-9eff-4aaa-8cb6-d48d90b2701e",
   "metadata": {},
   "outputs": [
    {
     "data": {
      "application/vnd.jupyter.widget-view+json": {
       "model_id": "44d6022e2f0b48ccb0a680bdcca8f9d1",
       "version_major": 2,
       "version_minor": 0
      },
      "text/plain": [
       "Map:   0%|          | 0/559999 [00:00<?, ? examples/s]"
      ]
     },
     "metadata": {},
     "output_type": "display_data"
    },
    {
     "data": {
      "application/vnd.jupyter.widget-view+json": {
       "model_id": "4716d7024c5d49b4b7ec0d979891a505",
       "version_major": 2,
       "version_minor": 0
      },
      "text/plain": [
       "Map:   0%|          | 0/37999 [00:00<?, ? examples/s]"
      ]
     },
     "metadata": {},
     "output_type": "display_data"
    }
   ],
   "source": [
    "yelp_train_dataset = yelp_train_dataset.map(tokenize_function, batched=True)\n",
    "yelp_test_dataset = yelp_test_dataset.map(tokenize_function, batched=True)\n",
    "\n",
    "# Remove unnecessary columns\n",
    "yelp_train_dataset = yelp_train_dataset.remove_columns([\"text\"])\n",
    "yelp_test_dataset = yelp_test_dataset.remove_columns([\"text\"])\n"
   ]
  },
  {
   "cell_type": "code",
   "execution_count": 40,
   "id": "3a0d39c7-091c-4d1f-95e9-ec330dc5941d",
   "metadata": {},
   "outputs": [],
   "source": [
    "import numpy as np\n",
    "from sklearn.metrics import accuracy_score, f1_score\n",
    "\n",
    "def evaluate_model_on_dataset(model, dataset):\n",
    "    model.eval()  # Set the model to evaluation mode\n",
    "    predictions, labels = [], []\n",
    "    for sample in dataset:\n",
    "        inputs = {\n",
    "            key: torch.tensor(value).unsqueeze(0).to(\"cuda\") \n",
    "            for key, value in sample.items() if key != \"label\"\n",
    "        }\n",
    "        with torch.no_grad():\n",
    "            outputs = model(**inputs)\n",
    "            logits = outputs.logits\n",
    "            predictions.append(torch.argmax(logits, dim=-1).cpu().numpy()[0])\n",
    "            labels.append(sample[\"label\"])\n",
    "    predictions = np.array(predictions)\n",
    "    labels = np.array(labels)\n",
    "    return {\n",
    "        \"accuracy\": accuracy_score(labels, predictions),\n",
    "        \"f1\": f1_score(labels, predictions, average=\"weighted\"),\n",
    "    }\n"
   ]
  },
  {
   "cell_type": "code",
   "execution_count": 41,
   "id": "75e239bd-9424-4422-8c91-f63136677227",
   "metadata": {},
   "outputs": [
    {
     "name": "stdout",
     "output_type": "stream",
     "text": [
      "Pre-trained Model on Yelp: {'accuracy': 0.5141187925998053, 'f1': 0.5138433388790341}\n"
     ]
    }
   ],
   "source": [
    "pretrained_metrics_yelp = evaluate_model_on_dataset(model_pretrained, yelp_test_dataset)\n",
    "\n",
    "print(f\"Pre-trained Model on Yelp: {pretrained_metrics_yelp}\")"
   ]
  },
  {
   "cell_type": "code",
   "execution_count": 42,
   "id": "8deadf34-d840-48fa-a58e-f2b0864eadaf",
   "metadata": {},
   "outputs": [
    {
     "name": "stdout",
     "output_type": "stream",
     "text": [
      "Fine-Tuned Model on Yelp: {'accuracy': 0.8138372062422695, 'f1': 0.812994723659259}\n"
     ]
    }
   ],
   "source": [
    "finetuned_metrics_yelp = evaluate_model_on_dataset(model_finetuned, yelp_test_dataset)\n",
    "\n",
    "print(f\"Fine-Tuned Model on Yelp: {finetuned_metrics_yelp}\")\n"
   ]
  },
  {
   "cell_type": "code",
   "execution_count": 45,
   "id": "dfab1e77-3b06-4f1d-b9a3-accd29774fde",
   "metadata": {},
   "outputs": [
    {
     "name": "stdout",
     "output_type": "stream",
     "text": [
      "  Dataset  Pre-Trained Accuracy  Fine-Tuned Accuracy  Pre-Trained F1  \\\n",
      "0    Yelp              0.514119             0.813837        0.513843   \n",
      "\n",
      "   Fine-Tuned F1  \n",
      "0       0.812995  \n"
     ]
    }
   ],
   "source": [
    "results = {\n",
    "    \"Dataset\": [\"Yelp\"],\n",
    "    \"Pre-Trained Accuracy\": [pretrained_metrics_yelp[\"accuracy\"]],\n",
    "    \"Fine-Tuned Accuracy\": [finetuned_metrics_yelp[\"accuracy\"]],\n",
    "    \"Pre-Trained F1\": [pretrained_metrics_yelp[\"f1\"]],\n",
    "    \"Fine-Tuned F1\": [finetuned_metrics_yelp[\"f1\"]],\n",
    "}\n",
    "\n",
    "import pandas as pd\n",
    "df_results = pd.DataFrame(results)\n",
    "print(df_results)\n"
   ]
  }
 ],
 "metadata": {
  "kernelspec": {
   "display_name": "Python 3 (ipykernel)",
   "language": "python",
   "name": "python3"
  },
  "language_info": {
   "codemirror_mode": {
    "name": "ipython",
    "version": 3
   },
   "file_extension": ".py",
   "mimetype": "text/x-python",
   "name": "python",
   "nbconvert_exporter": "python",
   "pygments_lexer": "ipython3",
   "version": "3.10.12"
  }
 },
 "nbformat": 4,
 "nbformat_minor": 5
}
